{
 "cells": [
  {
   "cell_type": "markdown",
   "metadata": {},
   "source": [
    "### 파이썬 순서형\n",
    "\n",
    "순서형(sequential type)이란 값들이 연속적으로 저장된 형태를 뜻한다.\n",
    "\n",
    "즉, 문자열도 순서형이다.\n",
    "\n",
    "그외에 대표적인 순서형으로 리스트와 튜플이 있다.\n",
    "\n",
    "순서형 type의 공통된 연산으로 \n",
    "\n",
    "인덱싱 : A[3]\n",
    "\n",
    "슬라이싱 : A[3:6]\n",
    "\n",
    "연결하기 : + 연산자\n",
    "\n",
    "반복하기 : * 연산자\n",
    "\n",
    "멤버 검사 : in 연산자\n",
    "\n",
    "길이 변환 : len()\n",
    "\n",
    "이 있다.\n"
   ]
  },
  {
   "cell_type": "markdown",
   "metadata": {},
   "source": [
    "### 리스트\n",
    "\n",
    "리스트 = [요소1. 요소2 요소3, ....]\n",
    "\n",
    "예시)\n",
    "\n",
    "A = [1,2,3] \n",
    "\n",
    "A = ['ad','as','fg']\n",
    "\n",
    "A = [1, 2, 'gg']\n",
    "\n",
    "A = list()\n",
    "\n",
    "A = []\n",
    "\n",
    "*리스트도 인덱싱 슬라이싱 가능"
   ]
  },
  {
   "cell_type": "code",
   "execution_count": 1,
   "metadata": {},
   "outputs": [],
   "source": [
    "a = [1,2,3,4]"
   ]
  },
  {
   "cell_type": "code",
   "execution_count": 2,
   "metadata": {},
   "outputs": [
    {
     "name": "stdout",
     "output_type": "stream",
     "text": [
      "[1, 2, 3, 4]\n"
     ]
    }
   ],
   "source": [
    "print(a)"
   ]
  },
  {
   "cell_type": "code",
   "execution_count": 3,
   "metadata": {},
   "outputs": [
    {
     "name": "stdout",
     "output_type": "stream",
     "text": [
      "3\n"
     ]
    }
   ],
   "source": [
    "print(a[2])"
   ]
  },
  {
   "cell_type": "code",
   "execution_count": 4,
   "metadata": {},
   "outputs": [],
   "source": [
    "a = [1,2,3,[4,5,6]]"
   ]
  },
  {
   "cell_type": "code",
   "execution_count": 5,
   "metadata": {},
   "outputs": [
    {
     "data": {
      "text/plain": [
       "6"
      ]
     },
     "execution_count": 5,
     "metadata": {},
     "output_type": "execute_result"
    }
   ],
   "source": [
    "a[3][2]"
   ]
  },
  {
   "cell_type": "code",
   "execution_count": 6,
   "metadata": {},
   "outputs": [
    {
     "data": {
      "text/plain": [
       "[5, 6]"
      ]
     },
     "execution_count": 6,
     "metadata": {},
     "output_type": "execute_result"
    }
   ],
   "source": [
    "a[3][1:3]"
   ]
  },
  {
   "cell_type": "markdown",
   "metadata": {},
   "source": [
    "### 리스트 관련 함수들\n",
    "\n",
    "요소 추가 : 리스트.append(값)\n",
    "\n",
    "정렬: 리스트.sort() \n",
    "      리스트.sorted 원래 있던 배열을 건드리지 않고, 새롭게 섞은 배열을 새롭게 메모리에 저장\n",
    "\n",
    "뒤집기: 리스트.reverse()\n",
    "\n",
    "위치 반환: 리스트.index()\n",
    "\n",
    "삭제 : del 리스트[위치]\n",
    "\n",
    "기타 : insert, remove, pop, extend"
   ]
  },
  {
   "cell_type": "code",
   "execution_count": 7,
   "metadata": {},
   "outputs": [],
   "source": [
    "a = [1,2,3,4,]"
   ]
  },
  {
   "cell_type": "code",
   "execution_count": 8,
   "metadata": {},
   "outputs": [],
   "source": [
    "a.append(5)"
   ]
  },
  {
   "cell_type": "code",
   "execution_count": 9,
   "metadata": {},
   "outputs": [
    {
     "name": "stdout",
     "output_type": "stream",
     "text": [
      "[1, 2, 3, 4, 5]\n"
     ]
    }
   ],
   "source": [
    "print(a)"
   ]
  },
  {
   "cell_type": "code",
   "execution_count": 10,
   "metadata": {},
   "outputs": [],
   "source": [
    "b = [8, 3, 2, 6, 1, 7, 8]"
   ]
  },
  {
   "cell_type": "code",
   "execution_count": 11,
   "metadata": {},
   "outputs": [],
   "source": [
    "b.sort()"
   ]
  },
  {
   "cell_type": "code",
   "execution_count": 12,
   "metadata": {},
   "outputs": [
    {
     "name": "stdout",
     "output_type": "stream",
     "text": [
      "[1, 2, 3, 6, 7, 8, 8]\n"
     ]
    }
   ],
   "source": [
    "print(b)"
   ]
  },
  {
   "cell_type": "code",
   "execution_count": 13,
   "metadata": {},
   "outputs": [],
   "source": [
    "b.reverse()"
   ]
  },
  {
   "cell_type": "code",
   "execution_count": 14,
   "metadata": {},
   "outputs": [
    {
     "name": "stdout",
     "output_type": "stream",
     "text": [
      "[8, 8, 7, 6, 3, 2, 1]\n"
     ]
    }
   ],
   "source": [
    "print(b)"
   ]
  },
  {
   "cell_type": "code",
   "execution_count": 15,
   "metadata": {},
   "outputs": [],
   "source": [
    "del b[0]"
   ]
  },
  {
   "cell_type": "code",
   "execution_count": 16,
   "metadata": {},
   "outputs": [
    {
     "name": "stdout",
     "output_type": "stream",
     "text": [
      "[8, 7, 6, 3, 2, 1]\n"
     ]
    }
   ],
   "source": [
    "print(b)"
   ]
  },
  {
   "cell_type": "code",
   "execution_count": 17,
   "metadata": {},
   "outputs": [
    {
     "data": {
      "text/plain": [
       "0"
      ]
     },
     "execution_count": 17,
     "metadata": {},
     "output_type": "execute_result"
    }
   ],
   "source": [
    "b.index(8)"
   ]
  },
  {
   "cell_type": "markdown",
   "metadata": {},
   "source": [
    "### 튜플\n",
    "\n",
    "튜플 = (요소1. 요소2 요소3, ....)\n",
    "\n",
    "예시)\n",
    "\n",
    "A = (1,2,3)\n",
    "\n",
    "A = ('ad','as','fg')\n",
    "\n",
    "A = (1, 2, 'gg')\n",
    "\n",
    "A = tuple()\n",
    "\n",
    "A = (1,)\n",
    "\n",
    "A = 1, 2, 3\n",
    "\n",
    "- 튜플은 리스트와 거의 비슷하지만 [ 대신 (를 쓴다. 또한, 1개의 요소만 가지면 반드시 , 를 붙여야하고 괄호를 생략해도 된다.\n",
    "- *튜플과 리스트의 가장 큰 차이는 튜플은 값을 변경할 수 없다는 것이다.\n",
    "\n",
    "\n"
   ]
  },
  {
   "cell_type": "markdown",
   "metadata": {},
   "source": [
    "### set\n",
    "\n",
    "set이란 데이터를 순서와 상관없이 중복도 허가하지 않고 모아높은 자료형으로 정확히는 순서형은 아니지만 튜플, 리스트와 유사성이 많다.\n",
    "\n",
    "예시)\n",
    "\n",
    "A = {1,2,3}\n",
    "\n",
    "A = set(['sd','as','df'])\n",
    "\n",
    "A = set('hello,world')\n",
    "\n",
    "A = set()\n",
    "\n",
    "*순서가 없기 때문에 인덱싱과 슬라이싱 불가능!\n",
    "\n",
    "### set 의 연산\n",
    "\n",
    "주요 연산으로\n",
    "\n",
    "값 추가: 셋.add(값)\n",
    "\n",
    "전체 제거 : 셋.clear()\n",
    "\n",
    "합집합: 셋1.union(셋2)\n",
    "\n",
    "교집합: 셋1.intersection(셋2)\n",
    "\n",
    "차집합: 셋1.difference(셋2)\n",
    "\n",
    "\n",
    "기타: copy, discard, remove, pop, update, intersection_update, difference_update 등"
   ]
  },
  {
   "cell_type": "markdown",
   "metadata": {},
   "source": [
    "### 형 변환\n",
    "\n",
    "set() : set으로 변환\n",
    "\n",
    "tuple() : tuple로 변환\n",
    "\n",
    "list() : list로 변환"
   ]
  },
  {
   "cell_type": "code",
   "execution_count": 18,
   "metadata": {},
   "outputs": [
    {
     "name": "stdout",
     "output_type": "stream",
     "text": [
      "{'r', 'o', 'h', 'e', ' ', 'w', 'l', 'd'}\n"
     ]
    }
   ],
   "source": [
    "a = 'hello world'\n",
    "print(set(a))"
   ]
  },
  {
   "cell_type": "code",
   "execution_count": 23,
   "metadata": {},
   "outputs": [
    {
     "name": "stdout",
     "output_type": "stream",
     "text": [
      "{32, 1, 2, 4}\n"
     ]
    }
   ],
   "source": [
    "a = [32,1,4,2]\n",
    "print(set(a))"
   ]
  },
  {
   "cell_type": "code",
   "execution_count": 24,
   "metadata": {},
   "outputs": [],
   "source": [
    "a = {1,2,3}\n",
    "b = {4,5,6}\n"
   ]
  },
  {
   "cell_type": "code",
   "execution_count": 25,
   "metadata": {},
   "outputs": [],
   "source": [
    "a.add(4)"
   ]
  },
  {
   "cell_type": "code",
   "execution_count": 26,
   "metadata": {},
   "outputs": [
    {
     "name": "stdout",
     "output_type": "stream",
     "text": [
      "{1, 2, 3, 4}\n"
     ]
    }
   ],
   "source": [
    "print(a)"
   ]
  },
  {
   "cell_type": "code",
   "execution_count": 27,
   "metadata": {},
   "outputs": [
    {
     "name": "stdout",
     "output_type": "stream",
     "text": [
      "{1, 2, 3, 4, 5, 6}\n"
     ]
    }
   ],
   "source": [
    "print(a.union(b))"
   ]
  },
  {
   "cell_type": "code",
   "execution_count": 30,
   "metadata": {},
   "outputs": [
    {
     "name": "stdout",
     "output_type": "stream",
     "text": [
      "{4}\n"
     ]
    }
   ],
   "source": [
    "print(a.intersection(b))"
   ]
  },
  {
   "cell_type": "code",
   "execution_count": 31,
   "metadata": {},
   "outputs": [
    {
     "name": "stdout",
     "output_type": "stream",
     "text": [
      "{1, 2, 3}\n"
     ]
    }
   ],
   "source": [
    "print(a.difference(b))"
   ]
  },
  {
   "cell_type": "code",
   "execution_count": 34,
   "metadata": {},
   "outputs": [
    {
     "name": "stdout",
     "output_type": "stream",
     "text": [
      "[1, 2, 3, 4]\n"
     ]
    }
   ],
   "source": [
    "print(list(a))"
   ]
  },
  {
   "cell_type": "code",
   "execution_count": 35,
   "metadata": {},
   "outputs": [
    {
     "name": "stdout",
     "output_type": "stream",
     "text": [
      "(1, 2, 3, 4)\n"
     ]
    }
   ],
   "source": [
    "print(tuple(a))"
   ]
  },
  {
   "cell_type": "code",
   "execution_count": 36,
   "metadata": {},
   "outputs": [
    {
     "name": "stdout",
     "output_type": "stream",
     "text": [
      "{1, 2, 3, 4}\n"
     ]
    }
   ],
   "source": [
    "print(set(a))"
   ]
  },
  {
   "cell_type": "code",
   "execution_count": null,
   "metadata": {},
   "outputs": [],
   "source": [
    " "
   ]
  }
 ],
 "metadata": {
  "kernelspec": {
   "display_name": "Python 3",
   "language": "python",
   "name": "python3"
  },
  "language_info": {
   "codemirror_mode": {
    "name": "ipython",
    "version": 3
   },
   "file_extension": ".py",
   "mimetype": "text/x-python",
   "name": "python",
   "nbconvert_exporter": "python",
   "pygments_lexer": "ipython3",
   "version": "3.8.5"
  }
 },
 "nbformat": 4,
 "nbformat_minor": 4
}
