{
 "cells": [
  {
   "cell_type": "markdown",
   "metadata": {},
   "source": [
    "### 딕셔너리란?\n",
    "\n",
    "key : value의 형태로 주어진 데이터들의 집합을 딕셔너리라고 한다.\n",
    "\n",
    "{key1 : value1, key2 : value2, key3 : value3, ...}\n",
    "\n",
    "key 에는 변하지 않는 값을 사용하고 value에 있는 값은 변경 가능하다.\n",
    "\n",
    "- *key의 순서는 없으며 key는 중복될 수 없다.\n",
    "\n",
    "- key의 자료형에는 제한이 없지만 일반적으로 문자열을 쓴다.\n",
    "\n",
    "- key에 대응되는 value를 가져오고 싶으면 dictionary[key]를 입력."
   ]
  },
  {
   "cell_type": "code",
   "execution_count": 6,
   "metadata": {},
   "outputs": [],
   "source": [
    "a = {'1': '강길재', '2' : '강하림', '3': '이현호', 4 : '김바보'}\n"
   ]
  },
  {
   "cell_type": "code",
   "execution_count": 7,
   "metadata": {},
   "outputs": [
    {
     "name": "stdout",
     "output_type": "stream",
     "text": [
      "{'1': '강길재', '2': '강하림', '3': '이현호', 4: '김바보'}\n"
     ]
    }
   ],
   "source": [
    "print(a) # key 값은 문자, 숫자, tuple 도 될 수 있다."
   ]
  },
  {
   "cell_type": "code",
   "execution_count": 8,
   "metadata": {},
   "outputs": [
    {
     "name": "stdout",
     "output_type": "stream",
     "text": [
      "강길재\n"
     ]
    }
   ],
   "source": [
    "print(a['1'])"
   ]
  },
  {
   "cell_type": "code",
   "execution_count": 11,
   "metadata": {},
   "outputs": [
    {
     "name": "stdout",
     "output_type": "stream",
     "text": [
      "김바보\n"
     ]
    }
   ],
   "source": [
    "print(a[4]) ## 딕셔너리는 순서가 없다. 리스트랑 혼동하지 말것 "
   ]
  },
  {
   "cell_type": "code",
   "execution_count": 13,
   "metadata": {},
   "outputs": [],
   "source": [
    " a = dict()"
   ]
  },
  {
   "cell_type": "code",
   "execution_count": 15,
   "metadata": {},
   "outputs": [],
   "source": [
    "a['1'] = '커리'\n",
    "a['2'] = '제임스'\n",
    "a['3'] = '듀란트'\n"
   ]
  },
  {
   "cell_type": "code",
   "execution_count": 16,
   "metadata": {},
   "outputs": [
    {
     "name": "stdout",
     "output_type": "stream",
     "text": [
      "{'1': '커리', '2': '제임스', '3': '듀란트'}\n"
     ]
    }
   ],
   "source": [
    "print(a)"
   ]
  },
  {
   "cell_type": "code",
   "execution_count": 18,
   "metadata": {},
   "outputs": [],
   "source": [
    "a['백업'] = '하든'"
   ]
  },
  {
   "cell_type": "code",
   "execution_count": 19,
   "metadata": {},
   "outputs": [
    {
     "name": "stdout",
     "output_type": "stream",
     "text": [
      "{'1': '커리', '2': '제임스', '3': '듀란트', '백업': '하든'}\n"
     ]
    }
   ],
   "source": [
    "print(a)"
   ]
  },
  {
   "cell_type": "markdown",
   "metadata": {},
   "source": [
    "### 주요 함수들\n",
    "\n",
    "길이 변환 : len(딕셔너리)\n",
    "\n",
    "데이터 삭제 : del 딕셔너리[key]\n",
    "\n",
    "키 값 모두 반환 딕셔너리.keys()\n",
    "\n",
    "벨류 값 모두 반환 : 딕셔너리.values()\n",
    "\n",
    "기타: clear, copy, get(key), update, popitem 등"
   ]
  },
  {
   "cell_type": "code",
   "execution_count": 20,
   "metadata": {},
   "outputs": [
    {
     "data": {
      "text/plain": [
       "4"
      ]
     },
     "execution_count": 20,
     "metadata": {},
     "output_type": "execute_result"
    }
   ],
   "source": [
    "len(a)"
   ]
  },
  {
   "cell_type": "code",
   "execution_count": 21,
   "metadata": {},
   "outputs": [],
   "source": [
    "del a['백업']"
   ]
  },
  {
   "cell_type": "code",
   "execution_count": 22,
   "metadata": {},
   "outputs": [
    {
     "name": "stdout",
     "output_type": "stream",
     "text": [
      "{'1': '커리', '2': '제임스', '3': '듀란트'}\n"
     ]
    }
   ],
   "source": [
    "print(a)"
   ]
  },
  {
   "cell_type": "code",
   "execution_count": 24,
   "metadata": {},
   "outputs": [
    {
     "name": "stdout",
     "output_type": "stream",
     "text": [
      "dict_values(['커리', '제임스', '듀란트'])\n"
     ]
    }
   ],
   "source": [
    "print(a.values())"
   ]
  },
  {
   "cell_type": "code",
   "execution_count": 25,
   "metadata": {},
   "outputs": [
    {
     "name": "stdout",
     "output_type": "stream",
     "text": [
      "dict_keys(['1', '2', '3'])\n"
     ]
    }
   ],
   "source": [
    "print(a.keys())"
   ]
  },
  {
   "cell_type": "markdown",
   "metadata": {},
   "source": [
    "### 키 값이 될 수 없는 것?\n",
    "\n",
    "List와 같이 값이 변한 수 있는 것은 키가 될 수 없다.\n",
    "\n",
    "\n"
   ]
  },
  {
   "cell_type": "code",
   "execution_count": null,
   "metadata": {},
   "outputs": [],
   "source": []
  }
 ],
 "metadata": {
  "kernelspec": {
   "display_name": "Python 3",
   "language": "python",
   "name": "python3"
  },
  "language_info": {
   "codemirror_mode": {
    "name": "ipython",
    "version": 3
   },
   "file_extension": ".py",
   "mimetype": "text/x-python",
   "name": "python",
   "nbconvert_exporter": "python",
   "pygments_lexer": "ipython3",
   "version": "3.8.5"
  }
 },
 "nbformat": 4,
 "nbformat_minor": 4
}
