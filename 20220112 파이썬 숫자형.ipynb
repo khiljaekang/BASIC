{
 "cells": [
  {
   "cell_type": "markdown",
   "metadata": {},
   "source": [
    "### 파이썬 자료형\n",
    "- 숫자형\n",
    "- 문자형\n",
    "- 순서형\n",
    "\n"
   ]
  },
  {
   "cell_type": "markdown",
   "metadata": {},
   "source": [
    "### 숫자형이란?\n",
    "숫자형이란 숫자 형태로 이루어진 자료형으로, 흔히 아는 123과 같은 정수, 12.34와 같은 실수, 드물게 사용하긴 하지만 8진수나 16진수,\n",
    "그리고 복소수도 있다.\n",
    "\n",
    "예시)\n",
    "\n",
    "- 정수 : 123, -123, 0\n",
    "- 실수 : 123.45, -123.4, 3.4e10\n",
    "- 8진수: 0o34, 0o25\n",
    "- 16진수: 0x2A, 0xFE\n",
    "- 복소수: 1 + 2j"
   ]
  },
  {
   "cell_type": "code",
   "execution_count": 1,
   "metadata": {},
   "outputs": [
    {
     "name": "stdout",
     "output_type": "stream",
     "text": [
      "7\n"
     ]
    }
   ],
   "source": [
    "a1 = 3\n",
    "a2 = 4\n",
    "print(a1+a2)"
   ]
  },
  {
   "cell_type": "code",
   "execution_count": 6,
   "metadata": {},
   "outputs": [
    {
     "name": "stdout",
     "output_type": "stream",
     "text": [
      "3.0\n",
      "67.0\n",
      "38998.0\n",
      "22\n",
      "-24\n",
      "50.0\n"
     ]
    }
   ],
   "source": [
    "print(3+2 - 8/4)\n",
    "print(25*6/3+17)\n",
    "print(39021 - 276920/12040)\n",
    "print(26 - 10%6)\n",
    "print(12 - (5*7 + 1))\n",
    "print(5*(8+(10-6)/2))"
   ]
  },
  {
   "cell_type": "code",
   "execution_count": null,
   "metadata": {},
   "outputs": [],
   "source": []
  },
  {
   "cell_type": "code",
   "execution_count": null,
   "metadata": {},
   "outputs": [],
   "source": []
  },
  {
   "cell_type": "code",
   "execution_count": null,
   "metadata": {},
   "outputs": [],
   "source": []
  }
 ],
 "metadata": {
  "kernelspec": {
   "display_name": "Python 3",
   "language": "python",
   "name": "python3"
  },
  "language_info": {
   "codemirror_mode": {
    "name": "ipython",
    "version": 3
   },
   "file_extension": ".py",
   "mimetype": "text/x-python",
   "name": "python",
   "nbconvert_exporter": "python",
   "pygments_lexer": "ipython3",
   "version": "3.8.5"
  }
 },
 "nbformat": 4,
 "nbformat_minor": 4
}
