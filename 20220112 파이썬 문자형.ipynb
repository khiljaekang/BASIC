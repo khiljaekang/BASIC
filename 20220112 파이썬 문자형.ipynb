{
 "cells": [
  {
   "cell_type": "markdown",
   "metadata": {},
   "source": [
    "### 문자열이란?\n",
    "- 문자열(string)은 문자, 숫자 등으로 구성된 문자들의 집합이다.\n",
    "- 쌍따옴표(\") 또는 따옴표 (')로 둘러싸서 만든다\n",
    "\n",
    "예시)\n",
    "\n",
    "- A = \"HELLO, WORLD\"\n",
    "- B = \"HELLO, WORLD\""
   ]
  },
  {
   "cell_type": "markdown",
   "metadata": {},
   "source": [
    " ### 문자열에 ￦ 문자는 escape 문자인데, 다음과 같다.\n",
    " \n",
    " - ￦￦: ￦문자\n",
    " - ￦' : 따옴표\n",
    " - ￦n : 줄 변경\n",
    " - ￦t 탭\n",
    " \n",
    " "
   ]
  },
  {
   "cell_type": "code",
   "execution_count": 1,
   "metadata": {},
   "outputs": [
    {
     "data": {
      "text/plain": [
       "2.220446049250313e-16"
      ]
     },
     "execution_count": 1,
     "metadata": {},
     "output_type": "execute_result"
    }
   ],
   "source": [
    "import sys\n",
    "sys.float_info.epsilon"
   ]
  },
  {
   "cell_type": "code",
   "execution_count": 2,
   "metadata": {},
   "outputs": [
    {
     "data": {
      "text/plain": [
       "0.01"
      ]
     },
     "execution_count": 2,
     "metadata": {},
     "output_type": "execute_result"
    }
   ],
   "source": [
    "1e-2"
   ]
  },
  {
   "cell_type": "code",
   "execution_count": 3,
   "metadata": {},
   "outputs": [
    {
     "name": "stdout",
     "output_type": "stream",
     "text": [
      "hello \n",
      " world\n"
     ]
    }
   ],
   "source": [
    "a = 'hello \\n world'\n",
    "print(a)"
   ]
  },
  {
   "cell_type": "markdown",
   "metadata": {},
   "source": [
    "### 문자열 연산\n",
    "- 두 문자열을 더하면 두 문자를 붙이고, 숫자와 곱하면 문자열을 반복한다.\n",
    "- 기본적으로 문자열은 데이터를 변경할 수 없기 때문에 슬라이싱을 많이 사용한다."
   ]
  },
  {
   "cell_type": "code",
   "execution_count": 4,
   "metadata": {},
   "outputs": [
    {
     "name": "stdout",
     "output_type": "stream",
     "text": [
      "helloworld\n"
     ]
    }
   ],
   "source": [
    "print('hello'+'world')"
   ]
  },
  {
   "cell_type": "code",
   "execution_count": 5,
   "metadata": {},
   "outputs": [
    {
     "name": "stdout",
     "output_type": "stream",
     "text": [
      "hellohellohello\n"
     ]
    }
   ],
   "source": [
    "print('hello'*3)"
   ]
  },
  {
   "cell_type": "markdown",
   "metadata": {},
   "source": [
    "### 문자열 인덱싱과 슬라이싱\n",
    "### 주요 문자열 함수\n",
    "- len(문자열) : 길이를 반환\n",
    "- 문자열.startswith(문자열2): 문자열이 문자열2로 시작하는지 판단\n",
    "- 문자열.endswith(문자열2) : 문자열이 문자열2로 끝나는지 판단\n",
    "- 문자열.find(문자열2) : 문자열 안에 문자열2가 있는지 판단하고 없을 경우 -1을, 있을 경우 위치를 반환\n",
    "- 문자열.count(문자열2) : 문자열 안에 문자열2가 몇번 등장하는지 반환\n",
    "- 문자열.strip(양 옆에 있는 공백 제거)\n",
    "- 기타: rfind, lstrip, rstrip, isalpha, isalnum, replace* ,split*, upper*, lower*, join*\n"
   ]
  },
  {
   "cell_type": "code",
   "execution_count": 8,
   "metadata": {},
   "outputs": [
    {
     "name": "stdout",
     "output_type": "stream",
     "text": [
      "30\n",
      "Life\n"
     ]
    }
   ],
   "source": [
    "A = \"Life is short, you need python\"\n",
    "print(len(A))\n",
    "print(A[0:4])"
   ]
  },
  {
   "cell_type": "code",
   "execution_count": 9,
   "metadata": {},
   "outputs": [
    {
     "data": {
      "text/plain": [
       "True"
      ]
     },
     "execution_count": 9,
     "metadata": {},
     "output_type": "execute_result"
    }
   ],
   "source": [
    "'Life is short'.startswith('Life')"
   ]
  },
  {
   "cell_type": "code",
   "execution_count": 10,
   "metadata": {},
   "outputs": [
    {
     "data": {
      "text/plain": [
       "True"
      ]
     },
     "execution_count": 10,
     "metadata": {},
     "output_type": "execute_result"
    }
   ],
   "source": [
    "'Life is short'.endswith('short')"
   ]
  },
  {
   "cell_type": "code",
   "execution_count": 12,
   "metadata": {},
   "outputs": [
    {
     "data": {
      "text/plain": [
       "5"
      ]
     },
     "execution_count": 12,
     "metadata": {},
     "output_type": "execute_result"
    }
   ],
   "source": [
    "'Life is short'.find('is') # 있으면 문자열이 있는 위치를 반환한다."
   ]
  },
  {
   "cell_type": "code",
   "execution_count": 20,
   "metadata": {},
   "outputs": [
    {
     "data": {
      "text/plain": [
       "2"
      ]
     },
     "execution_count": 20,
     "metadata": {},
     "output_type": "execute_result"
    }
   ],
   "source": [
    "'life is short'.count('i')"
   ]
  },
  {
   "cell_type": "code",
   "execution_count": 15,
   "metadata": {},
   "outputs": [
    {
     "data": {
      "text/plain": [
       "1"
      ]
     },
     "execution_count": 15,
     "metadata": {},
     "output_type": "execute_result"
    }
   ],
   "source": [
    "A.count('short')"
   ]
  },
  {
   "cell_type": "code",
   "execution_count": 22,
   "metadata": {},
   "outputs": [
    {
     "data": {
      "text/plain": [
       "'Life is short'"
      ]
     },
     "execution_count": 22,
     "metadata": {},
     "output_type": "execute_result"
    }
   ],
   "source": [
    "'   Life is short   '.strip()"
   ]
  },
  {
   "cell_type": "markdown",
   "metadata": {},
   "source": [
    "### 문자열 포매팅\n",
    "\n",
    "만약, 같은 문자열 안에 여러가지 서로 다른 문자를 넣고 싶다면?\n",
    "#### 예를 들면,\n",
    "\"현재 시간은 7시 입니다.\" \n",
    "\n",
    "\"현재 시간은 8시 입니다.\"\n",
    "이럴 때 사용하는 것이 포매팅이다.\n"
   ]
  },
  {
   "cell_type": "markdown",
   "metadata": {},
   "source": [
    "#### 포매팅 방법 1)\n",
    "\"현재 시간은 {}시 입니다.\"format(7)\n",
    "\n",
    "#### 포매팅 방법 2)\n",
    "\"현재 시간은 %d 입니다.\" % 7\n",
    "\n",
    "2번째 방법의 경우엔 %뒤에 입력할 값의 형태를 지정해줘야 한다.\n",
    "\n",
    "%d : 정수\n",
    "\n",
    "%s : 문자열\n",
    "\n",
    "%f : 실수\n",
    "\n",
    "%o : 8진수\n",
    "\n",
    "%x : 16진수\n",
    "\n",
    "\n"
   ]
  },
  {
   "cell_type": "code",
   "execution_count": 23,
   "metadata": {},
   "outputs": [
    {
     "data": {
      "text/plain": [
       "'지금은 7시 입니다.'"
      ]
     },
     "execution_count": 23,
     "metadata": {},
     "output_type": "execute_result"
    }
   ],
   "source": [
    "\"지금은 {}시 입니다.\".format(7)"
   ]
  },
  {
   "cell_type": "code",
   "execution_count": 26,
   "metadata": {},
   "outputs": [
    {
     "data": {
      "text/plain": [
       "'지금은 7시 30분 입니다.'"
      ]
     },
     "execution_count": 26,
     "metadata": {},
     "output_type": "execute_result"
    }
   ],
   "source": [
    "\"지금은 {}시 {}분 입니다.\".format(7, 30)"
   ]
  },
  {
   "cell_type": "code",
   "execution_count": 27,
   "metadata": {},
   "outputs": [
    {
     "data": {
      "text/plain": [
       "'지금은 7시 30분 입니다.'"
      ]
     },
     "execution_count": 27,
     "metadata": {},
     "output_type": "execute_result"
    }
   ],
   "source": [
    "\"지금은 {time}시 {minute}분 입니다.\".format(time=7, minute=30)"
   ]
  },
  {
   "cell_type": "markdown",
   "metadata": {},
   "source": [
    "### 형 변환\n",
    "\n",
    "정수로 변환 : int()\n",
    "\n",
    "실수로 변환 : float()\n",
    "\n",
    "문자열로 변환 : str()"
   ]
  },
  {
   "cell_type": "code",
   "execution_count": null,
   "metadata": {},
   "outputs": [],
   "source": []
  }
 ],
 "metadata": {
  "kernelspec": {
   "display_name": "Python 3",
   "language": "python",
   "name": "python3"
  },
  "language_info": {
   "codemirror_mode": {
    "name": "ipython",
    "version": 3
   },
   "file_extension": ".py",
   "mimetype": "text/x-python",
   "name": "python",
   "nbconvert_exporter": "python",
   "pygments_lexer": "ipython3",
   "version": "3.8.5"
  }
 },
 "nbformat": 4,
 "nbformat_minor": 4
}
